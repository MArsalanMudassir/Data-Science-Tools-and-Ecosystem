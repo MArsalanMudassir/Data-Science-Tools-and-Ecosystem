{
 "cells": [
  {
   "cell_type": "markdown",
   "id": "4f38fce6-b599-4858-912f-aeadc4ac4ec4",
   "metadata": {},
   "source": [
    "# Data Science Tools and Ecosystem"
   ]
  },
  {
   "cell_type": "markdown",
   "id": "eb0174b2-1864-4743-8612-243b7d9a11cf",
   "metadata": {},
   "source": [
    "In this notebook, Data Science Tools and Ecosystem are summerized."
   ]
  },
  {
   "cell_type": "markdown",
   "id": "417c3ba1-0014-4ad5-bf8a-860654c96b93",
   "metadata": {},
   "source": [
    "Some of the popular languages that Data Scientists use are:\n",
    "1. Python\n",
    "2. R\n",
    "3. SQL\n",
    "4. Scala\n",
    "5. Julia\n",
    "6. Ruby\n",
    "7. Java\n",
    "8. C++"
   ]
  },
  {
   "cell_type": "markdown",
   "id": "786a64a7-bac3-41f7-9cf3-7d294ccad498",
   "metadata": {},
   "source": [
    "Some of the commonly used libraries used by Data Scientists include:\n",
    "1. NumPY\n",
    "2. SciPY\n",
    "3. Sci-Kit Learn\n",
    "4. Matplotlib\n",
    "5. ggvis"
   ]
  },
  {
   "cell_type": "markdown",
   "id": "14ef6c37-9d4f-472f-9375-116ed877abeb",
   "metadata": {},
   "source": [
    "| Data Science Tools |\n",
    "| ---------------- |\n",
    "| IBM Watson Studio |\n",
    "| Tensor flow |\n",
    "| Rstudio |"
   ]
  },
  {
   "cell_type": "markdown",
   "id": "65edc5ad-4052-4450-b047-1cc303c6c5d2",
   "metadata": {},
   "source": [
    "### Below are a few examples of evaluating  arithmetic expressions in Python"
   ]
  },
  {
   "cell_type": "code",
   "execution_count": 2,
   "id": "a111c80f-7f55-4c9e-adb1-e7f7dc10d75f",
   "metadata": {},
   "outputs": [
    {
     "data": {
      "text/plain": [
       "17"
      ]
     },
     "execution_count": 2,
     "metadata": {},
     "output_type": "execute_result"
    }
   ],
   "source": [
    "#This a simple arithmetic expression to mutiply then add integers\n",
    "(3*4)+5"
   ]
  },
  {
   "cell_type": "code",
   "execution_count": 4,
   "id": "11dc8b6d-06c3-4a8e-8f0a-3749d0520efa",
   "metadata": {},
   "outputs": [
    {
     "data": {
      "text/plain": [
       "3.3333333333333335"
      ]
     },
     "execution_count": 4,
     "metadata": {},
     "output_type": "execute_result"
    }
   ],
   "source": [
    "#  This will convert 200 minutes to hours by diving by 60\n",
    "200/60"
   ]
  },
  {
   "cell_type": "markdown",
   "id": "b5b6e7ce-59e2-474a-bb4e-136423eaaac7",
   "metadata": {},
   "source": [
    "**Objectives:**\n",
    "List of popular languages for Data Science\n",
    "+ Python\n",
    "- R\n",
    "+ SQL\n",
    "- Julia\n",
    "+ Scala"
   ]
  },
  {
   "cell_type": "markdown",
   "id": "c02f9e65-bee1-4bfb-a09f-28759e263d9f",
   "metadata": {},
   "source": [
    "## Author\n",
    "M. Arslan Mudassir"
   ]
  },
  {
   "cell_type": "code",
   "execution_count": null,
   "id": "98678c87-93e0-4c5f-a9f6-54d58d0191b0",
   "metadata": {},
   "outputs": [],
   "source": []
  }
 ],
 "metadata": {
  "kernelspec": {
   "display_name": "Python 3 (ipykernel)",
   "language": "python",
   "name": "python3"
  },
  "language_info": {
   "codemirror_mode": {
    "name": "ipython",
    "version": 3
   },
   "file_extension": ".py",
   "mimetype": "text/x-python",
   "name": "python",
   "nbconvert_exporter": "python",
   "pygments_lexer": "ipython3",
   "version": "3.10.9"
  }
 },
 "nbformat": 4,
 "nbformat_minor": 5
}
